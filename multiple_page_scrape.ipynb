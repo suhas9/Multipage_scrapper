{
 "cells": [
  {
   "cell_type": "code",
   "execution_count": 15,
   "id": "e45a7420-2434-4921-b74b-8f0c713137d4",
   "metadata": {
    "tags": []
   },
   "outputs": [],
   "source": [
    "import requests\n",
    "from bs4 import BeautifulSoup\n",
    "import pandas as pd"
   ]
  },
  {
   "cell_type": "code",
   "execution_count": 12,
   "id": "759dec3c-2c75-423e-91e4-b9b6a31c3996",
   "metadata": {
    "tags": []
   },
   "outputs": [
    {
     "data": {
      "text/plain": [
       "<Response [200]>"
      ]
     },
     "execution_count": 12,
     "metadata": {},
     "output_type": "execute_result"
    }
   ],
   "source": [
    "response"
   ]
  },
  {
   "cell_type": "code",
   "execution_count": 18,
   "id": "2a454c19-8433-4b79-b9b4-cefb48a9ed95",
   "metadata": {
    "tags": []
   },
   "outputs": [],
   "source": [
    "response = response.content\n"
   ]
  },
  {
   "cell_type": "code",
   "execution_count": 50,
   "id": "1cfce202-3c91-4222-a877-05bef41dff51",
   "metadata": {
    "tags": []
   },
   "outputs": [],
   "source": [
    "books = []\n",
    "for i in range(1,51):\n",
    "    url = f'https://books.toscrape.com/catalogue/page-{i}.html'\n",
    "    response = requests.get(url)\n",
    "    response = response.content\n",
    "    soup = BeautifulSoup(response,\"html.parser\")\n",
    "    ol = soup.find('ol')\n",
    "    articles = ol.find_all('article',class_ = 'product_pod')\n",
    "    \n",
    " \n",
    "\n",
    "    for article in articles:\n",
    "        image = article.find('img')\n",
    "        title = image.attrs['alt']\n",
    "        star = article.find('p')\n",
    "        star = star['class'][1]\n",
    "        price = article.find('p',class_='price_color').text\n",
    "        price = float(price[1:])\n",
    "        books.append([title,price,star])\n",
    "    "
   ]
  },
  {
   "cell_type": "code",
   "execution_count": 55,
   "id": "ef000809-74bc-4c14-a00c-f2758c90eeab",
   "metadata": {
    "tags": []
   },
   "outputs": [],
   "source": [
    "df = pd.DataFrame(books,columns=['Title',\"price\",\"star_rating\"])"
   ]
  },
  {
   "cell_type": "code",
   "execution_count": null,
   "id": "df9c7e27-9fbe-4227-a7b7-ee8529898aa4",
   "metadata": {
    "tags": []
   },
   "outputs": [],
   "source": [
    "df"
   ]
  },
  {
   "cell_type": "code",
   "execution_count": 57,
   "id": "db334f87-e599-40cb-9e8c-5b264c16eaf2",
   "metadata": {
    "tags": []
   },
   "outputs": [],
   "source": [
    "df.to_csv('books_scrapper.csv',index=False)"
   ]
  },
  {
   "cell_type": "code",
   "execution_count": 58,
   "id": "9c2368a8-f964-47d8-89fa-685cbc0bf825",
   "metadata": {
    "tags": []
   },
   "outputs": [
    {
     "ename": "SyntaxError",
     "evalue": "invalid syntax (2830201818.py, line 1)",
     "output_type": "error",
     "traceback": [
      "\u001b[1;36m  Cell \u001b[1;32mIn[58], line 1\u001b[1;36m\u001b[0m\n\u001b[1;33m    git init\u001b[0m\n\u001b[1;37m        ^\u001b[0m\n\u001b[1;31mSyntaxError\u001b[0m\u001b[1;31m:\u001b[0m invalid syntax\n"
     ]
    }
   ],
   "source": [
    "git init"
   ]
  },
  {
   "cell_type": "code",
   "execution_count": null,
   "id": "fcbf26cc-02d1-460a-956d-1e7491f34d4f",
   "metadata": {},
   "outputs": [],
   "source": []
  }
 ],
 "metadata": {
  "kernelspec": {
   "display_name": "Python 3 (ipykernel)",
   "language": "python",
   "name": "python3"
  },
  "language_info": {
   "codemirror_mode": {
    "name": "ipython",
    "version": 3
   },
   "file_extension": ".py",
   "mimetype": "text/x-python",
   "name": "python",
   "nbconvert_exporter": "python",
   "pygments_lexer": "ipython3",
   "version": "3.11.4"
  }
 },
 "nbformat": 4,
 "nbformat_minor": 5
}
